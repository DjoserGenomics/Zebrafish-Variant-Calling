{
  "nbformat": 4,
  "nbformat_minor": 0,
  "metadata": {
    "colab": {
      "provenance": [],
      "collapsed_sections": [
        "YlyeanCDrvnP",
        "mCg5yBler5I-",
        "kj8LWlRbsaU4",
        "cPsLJVscsiGG",
        "dNlG9xLtxtAf",
        "fxWsTXctylZd",
        "LljUw_-Jy7ad",
        "EvEbCRJkzBnt",
        "VPKRrlLXyz1f",
        "WFCxSVTFzI5f",
        "nx-m4jKzzJcF",
        "TDXIbxFrzOA9",
        "QisEdteNzQYW",
        "dHULZMRJzSuX",
        "8LrKzwF53Gql",
        "0VA2Xbdq4alM",
        "VwPhI3DA4czy",
        "KdzYzenc4kd1"
      ]
    },
    "kernelspec": {
      "name": "python3",
      "display_name": "Python 3"
    },
    "language_info": {
      "name": "python"
    }
  },
  "cells": [
    {
      "cell_type": "markdown",
      "source": [
        "#**My Variant Calling Pipeline**"
      ],
      "metadata": {
        "id": "29L75v9WYPKP"
      }
    },
    {
      "cell_type": "markdown",
      "source": [
        "Each Sample in Samples is an array [0,1,2] where:\n",
        "* 0 is the file name\n",
        "* 1 is the forward run\n",
        "* 2 is the reverse run"
      ],
      "metadata": {
        "id": "WpuiolQWreXY"
      }
    },
    {
      "cell_type": "code",
      "source": [
        "Data = {'Samples':\n",
        " [['CapturedMaleBaselineD_S1', 'ftp://ftp.sra.ebi.ac.uk/vol1/fastq/SRR116/023/SRR11676923/SRR11676923_1.fastq.gz', 'ftp://ftp.sra.ebi.ac.uk/vol1/fastq/SRR116/023/SRR11676923/SRR11676923_2.fastq.gz'],\n",
        " ['CapturedMaleBaselineD_S2', 'ftp://ftp.sra.ebi.ac.uk/vol1/fastq/SRR116/019/SRR11676919/SRR11676919_1.fastq.gz', 'ftp://ftp.sra.ebi.ac.uk/vol1/fastq/SRR116/019/SRR11676919/SRR11676919_2.fastq.gz'],\n",
        " ['EscapedMaleBaselineD_S1', 'ftp://ftp.sra.ebi.ac.uk/vol1/fastq/SRR116/053/SRR11676853/SRR11676853_1.fastq.gz', 'ftp://ftp.sra.ebi.ac.uk/vol1/fastq/SRR116/053/SRR11676853/SRR11676853_2.fastq.gz'],\n",
        " ['EscapedMaleBaselineD_S2', 'ftp://ftp.sra.ebi.ac.uk/vol1/fastq/SRR116/062/SRR11676862/SRR11676862_1.fastq.gz', 'ftp://ftp.sra.ebi.ac.uk/vol1/fastq/SRR116/062/SRR11676862/SRR11676862_2.fastq.gz']],\n",
        " 'ZebrafishRefGenome': 'https://ftp.ensembl.org/pub/release-114/fasta/danio_rerio/dna/Danio_rerio.GRCz11.dna.primary_assembly.fa.gz',\n",
        " 'ZebrafishRefGTF': 'https://ftp.ensembl.org/pub/release-114/gtf/danio_rerio/Danio_rerio.GRCz11.114.gtf.gz'}"
      ],
      "metadata": {
        "id": "H5RkrbRBxiMl"
      },
      "execution_count": 10,
      "outputs": []
    },
    {
      "cell_type": "markdown",
      "source": [
        "## Downloading Files"
      ],
      "metadata": {
        "id": "YlyeanCDrvnP"
      }
    },
    {
      "cell_type": "code",
      "source": [
        "import requests\n",
        "\n",
        "# Download Datasets\n",
        "for sample_info in Data['Samples']:\n",
        "  sample_name = sample_info[0]\n",
        "  read1_url = sample_info[1]\n",
        "  read2_url = sample_info[2]\n",
        "  !wget -O {sample_name}_R1.fastq.gz {read1_url}\n",
        "  !wget -O {sample_name}_R2.fastq.gz {read2_url}\n",
        "\n",
        "# Download ZebrafishRefGenome\n",
        "genome_url = Data['ZebrafishRefGenome']\n",
        "genome_filename = 'ZebrafishRefGenome.fa.gz'\n",
        "!wget -O {genome_filename} {genome_url}\n",
        "\n",
        "# Download ZebrafishRefGTF\n",
        "gtf_url = Data['ZebrafishRefGTF']\n",
        "gtf_filename = 'ZebrafishRefGTF.gtf.gz'\n",
        "!wget -O {gtf_filename} {gtf_url}"
      ],
      "metadata": {
        "collapsed": true,
        "id": "jTvy-1hh0nfd"
      },
      "execution_count": null,
      "outputs": []
    },
    {
      "cell_type": "markdown",
      "source": [
        "## Moving Files into folders"
      ],
      "metadata": {
        "id": "mCg5yBler5I-"
      }
    },
    {
      "cell_type": "code",
      "source": [
        "mkdir references raw_data FASTQC_reports"
      ],
      "metadata": {
        "id": "5-leJdzm_nJd"
      },
      "execution_count": 12,
      "outputs": []
    },
    {
      "cell_type": "markdown",
      "source": [
        "### Move zebrafishRefGTF.gtf.gz and ZebrafishRefGenome.fa.gz into references/ and then unzip it using gunzip"
      ],
      "metadata": {
        "id": "YyP5j9A0sLJw"
      }
    },
    {
      "cell_type": "code",
      "source": [
        "!mv ZebrafishRefGTF.gtf.gz references/\n",
        "!gunzip references/ZebrafishRefGTF.gtf.gz\n",
        "!mv ZebrafishRefGenome.fa.gz references/\n",
        "!gunzip references/ZebrafishRefGenome.fa.gz"
      ],
      "metadata": {
        "id": "sLTlctc9_vej"
      },
      "execution_count": null,
      "outputs": []
    },
    {
      "cell_type": "markdown",
      "source": [
        "### Move all files ending in \"fastq.gz\" into raw_data/"
      ],
      "metadata": {
        "id": "ymndUqMPsSm_"
      }
    },
    {
      "cell_type": "code",
      "source": [
        "!mv *.fastq.gz raw_data/"
      ],
      "metadata": {
        "id": "_dRwNOq0BTjd"
      },
      "execution_count": 13,
      "outputs": []
    },
    {
      "cell_type": "markdown",
      "source": [
        "## FastQC & MultiQC"
      ],
      "metadata": {
        "id": "kj8LWlRbsaU4"
      }
    },
    {
      "cell_type": "code",
      "source": [
        "!apt update\n",
        "!apt install fastqc -y\n",
        "!pip install multiqc"
      ],
      "metadata": {
        "collapsed": true,
        "id": "WVt6MG4iBcAU"
      },
      "execution_count": null,
      "outputs": []
    },
    {
      "cell_type": "code",
      "source": [
        "import os\n",
        "\n",
        "input_dir = \"/content/raw_data\"\n",
        "output_dir = \"FASTQC_reports\"\n",
        "\n",
        "# Loop through all .fastq.gz files in the input directory\n",
        "for dataset in Data['Samples']:\n",
        "    default_file_path = os.path.join(input_dir, dataset[0])\n",
        "    forward_run = default_file_path + \"_R1.fastq.gz\"\n",
        "    reverse_run = default_file_path + \"_R2.fastq.gz\"\n",
        "\n",
        "    !fastqc {forward_run} {reverse_run} -o {output_dir}"
      ],
      "metadata": {
        "id": "nQx5bmNLtrfA"
      },
      "execution_count": null,
      "outputs": []
    },
    {
      "cell_type": "code",
      "source": [
        "!multiqc FASTQC_reports/"
      ],
      "metadata": {
        "collapsed": true,
        "id": "HkKkDWkf0xoG"
      },
      "execution_count": null,
      "outputs": []
    },
    {
      "cell_type": "markdown",
      "source": [
        "## Fastp"
      ],
      "metadata": {
        "id": "cPsLJVscsiGG"
      }
    },
    {
      "cell_type": "code",
      "source": [
        "!wget http://opengene.org/fastp/fastp\n",
        "!chmod a+x fastp\n",
        "!mv fastp /usr/local/bin/"
      ],
      "metadata": {
        "collapsed": true,
        "id": "URGn8eAG3_bS"
      },
      "execution_count": null,
      "outputs": []
    },
    {
      "cell_type": "code",
      "source": [
        "mkdir trimmed_data fastp_reports"
      ],
      "metadata": {
        "id": "ECry3ipu4fRe"
      },
      "execution_count": 21,
      "outputs": []
    },
    {
      "cell_type": "code",
      "source": [
        "import os\n",
        "\n",
        "input_dir = \"/content/raw_data\"\n",
        "output_dir = \"/content/trimmed_data\"\n",
        "fastp_reports_dir = \"/content/fastp_reports\"\n",
        "\n",
        "# Loop through all .fastq.gz files in the input directory\n",
        "for dataset in Data['Samples']:\n",
        "    default_file_path = os.path.join(input_dir, dataset[0])\n",
        "    output_file_path = os.path.join(output_dir, dataset[0])\n",
        "    fastp_reports_file_path = os.path.join(fastp_reports_dir, dataset[0])\n",
        "\n",
        "    forward_run = default_file_path + \"_R1.fastq.gz\"\n",
        "    reverse_run = default_file_path + \"_R2.fastq.gz\"\n",
        "\n",
        "    trimmed_forward_run = output_file_path + \"_trimmed_R1.fastq.gz\"\n",
        "    trimmed_reverse_run = output_file_path + \"_trimmed_R2.fastq.gz\"\n",
        "\n",
        "    fastp_report_html = fastp_reports_file_path + \"_fastp_report.html\"\n",
        "    fastp_report_json = fastp_reports_file_path + \"_fastp_report.json\"\n",
        "\n",
        "    !fastp \\\n",
        "      -i {forward_run} \\\n",
        "      -I {reverse_run} \\\n",
        "      -o {trimmed_forward_run} \\\n",
        "      -O {trimmed_reverse_run} \\\n",
        "      -q 20 \\\n",
        "      -u 30 \\\n",
        "      -n 5 \\\n",
        "      -l 36 \\\n",
        "      --detect_adapter_for_pe \\\n",
        "      -h {fastp_report_html} \\\n",
        "      -j {fastp_report_json}"
      ],
      "metadata": {
        "collapsed": true,
        "id": "zlH6LOdvwZEm"
      },
      "execution_count": null,
      "outputs": []
    },
    {
      "cell_type": "markdown",
      "source": [
        "## Rerunning FastQC & MultiQC after Trimming"
      ],
      "metadata": {
        "id": "dNlG9xLtxtAf"
      }
    },
    {
      "cell_type": "code",
      "source": [
        "mkdir Post_trimming_FASTQC_reports"
      ],
      "metadata": {
        "id": "FjkyuSCEyfYd"
      },
      "execution_count": 25,
      "outputs": []
    },
    {
      "cell_type": "code",
      "source": [
        "import os\n",
        "\n",
        "input_dir = \"/content/trimmed_data\"\n",
        "output_dir = \"Post_trimming_FASTQC_reports\"\n",
        "\n",
        "# Loop through all .fastq.gz files in the input directory\n",
        "for dataset in Data['Samples']:\n",
        "    default_file_path = os.path.join(input_dir, dataset[0])\n",
        "    forward_run = default_file_path + \"_trimmed_R1.fastq.gz\"\n",
        "    reverse_run = default_file_path + \"_trimmed_R2.fastq.gz\"\n",
        "\n",
        "    !fastqc {forward_run} {reverse_run} -o {output_dir}"
      ],
      "metadata": {
        "collapsed": true,
        "id": "p6LeGNPbx-rG"
      },
      "execution_count": null,
      "outputs": []
    },
    {
      "cell_type": "code",
      "source": [
        "!multiqc Post_trimming_FASTQC_reports/"
      ],
      "metadata": {
        "id": "uFIipwjUyj56"
      },
      "execution_count": null,
      "outputs": []
    },
    {
      "cell_type": "markdown",
      "source": [
        "## Aligning using Minimap2"
      ],
      "metadata": {
        "id": "fxWsTXctylZd"
      }
    },
    {
      "cell_type": "code",
      "source": [
        "!apt update\n",
        "!apt install -y minimap2"
      ],
      "metadata": {
        "collapsed": true,
        "id": "5E4H70_PXRF3"
      },
      "execution_count": null,
      "outputs": []
    },
    {
      "cell_type": "code",
      "source": [
        "mkdir BAMs"
      ],
      "metadata": {
        "id": "GRmXDdkyzv62"
      },
      "execution_count": 27,
      "outputs": []
    },
    {
      "cell_type": "markdown",
      "source": [
        "### Creating reference Genome Index"
      ],
      "metadata": {
        "id": "LljUw_-Jy7ad"
      }
    },
    {
      "cell_type": "code",
      "source": [
        "!minimap2 -d references/ZebrafishRefGenome.mmi references/ZebrafishRefGenome.fa"
      ],
      "metadata": {
        "id": "KoY3QKuP7SpC"
      },
      "execution_count": null,
      "outputs": []
    },
    {
      "cell_type": "markdown",
      "source": [
        "### Aligning"
      ],
      "metadata": {
        "id": "EvEbCRJkzBnt"
      }
    },
    {
      "cell_type": "code",
      "source": [
        "import os\n",
        "\n",
        "input_dir = \"/content/trimmed_data\"\n",
        "output_dir = \"/content/BAMs\"\n",
        "ref_genome_index_path = \"references/ZebrafishRefGenome.mmi\"\n",
        "\n",
        "# Loop through all .fastq.gz files in the input directory\n",
        "for dataset in Data['Samples']:\n",
        "    default_file_path = os.path.join(input_dir, dataset[0])\n",
        "    forward_run = default_file_path + \"_trimmed_R1.fastq.gz\"\n",
        "    reverse_run = default_file_path + \"_trimmed_R2.fastq.gz\"\n",
        "    output_file_path = os.path.join(output_dir, dataset[0]) + '.sam'\n",
        "\n",
        "    !minimap2 -ax sr {ref_genome_index_path} {forward_run} {reverse_run} > {output_file_path}"
      ],
      "metadata": {
        "id": "CbLJ1ggzzbbO"
      },
      "execution_count": null,
      "outputs": []
    },
    {
      "cell_type": "markdown",
      "source": [
        "## Sorting and Indexing using samtools"
      ],
      "metadata": {
        "id": "VPKRrlLXyz1f"
      }
    },
    {
      "cell_type": "code",
      "source": [
        "!apt install -y samtools"
      ],
      "metadata": {
        "id": "ShKmMmjcy5K2"
      },
      "execution_count": null,
      "outputs": []
    },
    {
      "cell_type": "markdown",
      "source": [
        "### Creating reference Genome Index"
      ],
      "metadata": {
        "id": "WFCxSVTFzI5f"
      }
    },
    {
      "cell_type": "code",
      "source": [
        "!samtools faidx /content/references/ZebrafishRefGenome.fa"
      ],
      "metadata": {
        "id": "8Dizae8HXZ6g"
      },
      "execution_count": null,
      "outputs": []
    },
    {
      "cell_type": "markdown",
      "source": [
        "### Converting .sam files to .bam"
      ],
      "metadata": {
        "id": "nx-m4jKzzJcF"
      }
    },
    {
      "cell_type": "code",
      "source": [
        "import os\n",
        "\n",
        "input_dir = \"/content/BAMs\"\n",
        "output_dir = \"/content/BAMs\"\n",
        "\n",
        "# Loop through all .fastq.gz files in the input directory\n",
        "for dataset in Data['Samples']:\n",
        "    input_file = os.path.join(input_dir, dataset[0]) + \".sam\"\n",
        "    output_file = os.path.join(output_dir, dataset[0]) + '.bam'\n",
        "\n",
        "    !samtools view -@ 2 -bS {input_file} > {output_file}"
      ],
      "metadata": {
        "collapsed": true,
        "id": "r5Bg_d2p0eq1"
      },
      "execution_count": null,
      "outputs": []
    },
    {
      "cell_type": "markdown",
      "source": [
        "### Sorting"
      ],
      "metadata": {
        "id": "TDXIbxFrzOA9"
      }
    },
    {
      "cell_type": "code",
      "source": [
        "import os\n",
        "\n",
        "input_dir = \"/content/BAMs\"\n",
        "output_dir = \"/content/BAMs\"\n",
        "\n",
        "# Loop through all .fastq.gz files in the input directory\n",
        "for dataset in Data['Samples']:\n",
        "    input_file = os.path.join(input_dir, dataset[0]) + \".bam\"\n",
        "    output_file = os.path.join(output_dir, dataset[0]) + '_Sorted.bam'\n",
        "\n",
        "    !samtools sort -@ 2 -o {output_file} {input_file}"
      ],
      "metadata": {
        "id": "7UjDfU0P1Get"
      },
      "execution_count": null,
      "outputs": []
    },
    {
      "cell_type": "markdown",
      "source": [
        "### Indexing"
      ],
      "metadata": {
        "id": "QisEdteNzQYW"
      }
    },
    {
      "cell_type": "code",
      "source": [
        "import os\n",
        "\n",
        "input_dir = \"/content/BAMs\"\n",
        "\n",
        "# Loop through all .fastq.gz files in the input directory\n",
        "for dataset in Data['Samples']:\n",
        "    input_file = os.path.join(input_dir, dataset[0]) + '_Sorted.bam'\n",
        "\n",
        "    !samtools index {input_file}"
      ],
      "metadata": {
        "id": "SGRBM-DJ1hRX"
      },
      "execution_count": null,
      "outputs": []
    },
    {
      "cell_type": "markdown",
      "source": [
        "## Variant Calling using freebayes"
      ],
      "metadata": {
        "id": "dHULZMRJzSuX"
      }
    },
    {
      "cell_type": "code",
      "source": [
        "!apt update\n",
        "!apt install -y freebayes"
      ],
      "metadata": {
        "collapsed": true,
        "id": "NTFcdmIO236Q"
      },
      "execution_count": null,
      "outputs": []
    },
    {
      "cell_type": "code",
      "source": [
        "mkdir VCFs"
      ],
      "metadata": {
        "id": "VB0GWeAw14K9"
      },
      "execution_count": 34,
      "outputs": []
    },
    {
      "cell_type": "code",
      "source": [
        "import os\n",
        "\n",
        "input_dir = \"/content/BAMs\"\n",
        "output_dir = \"/content/VCFs\"\n",
        "ref_Genome = \"references/ZebrafishRefGenome.fa\"\n",
        "\n",
        "# Loop through all .fastq.gz files in the input directory\n",
        "for dataset in Data['Samples']:\n",
        "    input_file = os.path.join(input_dir, dataset[0]) + \"_Sorted.bam\"\n",
        "    output_file = os.path.join(output_dir, dataset[0]) + '.vcf'\n",
        "\n",
        "    !freebayes -f {ref_Genome} {input_file} > {output_file}"
      ],
      "metadata": {
        "id": "k5iiaydg10zu"
      },
      "execution_count": null,
      "outputs": []
    },
    {
      "cell_type": "markdown",
      "source": [
        "## VCF Filtering using vcf filter"
      ],
      "metadata": {
        "id": "8LrKzwF53Gql"
      }
    },
    {
      "cell_type": "markdown",
      "source": [
        "### Installing Miniconda"
      ],
      "metadata": {
        "id": "0VA2Xbdq4alM"
      }
    },
    {
      "cell_type": "code",
      "source": [
        "!wget https://repo.anaconda.com/miniconda/Miniconda3-latest-Linux-x86_64.sh\n",
        "!chmod +x Miniconda3-latest-Linux-x86_64.sh\n",
        "!bash ./Miniconda3-latest-Linux-x86_64.sh -b -f -p /usr/local"
      ],
      "metadata": {
        "id": "8w7_TeV94IlU"
      },
      "execution_count": null,
      "outputs": []
    },
    {
      "cell_type": "markdown",
      "source": [
        "### Installing vcf filter"
      ],
      "metadata": {
        "id": "VwPhI3DA4czy"
      }
    },
    {
      "cell_type": "code",
      "source": [
        "!conda install -c bioconda vcflib"
      ],
      "metadata": {
        "collapsed": true,
        "id": "IM1ZMUsp3ORF"
      },
      "execution_count": null,
      "outputs": []
    },
    {
      "cell_type": "markdown",
      "source": [
        "### Running vcf filter"
      ],
      "metadata": {
        "id": "KdzYzenc4kd1"
      }
    },
    {
      "cell_type": "code",
      "source": [
        "import os\n",
        "\n",
        "input_dir = \"/content/VCFs\"\n",
        "output_dir = \"/content/VCFs\"\n",
        "\n",
        "# Loop through all .fastq.gz files in the input directory\n",
        "for dataset in Data['Samples']:\n",
        "    input_file = os.path.join(input_dir, dataset[0]) + \".vcf\"\n",
        "    output_file = os.path.join(output_dir, dataset[0]) + '_filtered.vcf'\n",
        "\n",
        "    !vcffilter -f \"QUAL > 20\" {input_file} > {output_file}"
      ],
      "metadata": {
        "id": "-g7dGuft3Wke"
      },
      "execution_count": null,
      "outputs": []
    },
    {
      "cell_type": "markdown",
      "source": [
        "## - Variant Effect Predictor (VEP) was done on usegalaxy.eu"
      ],
      "metadata": {
        "id": "5j3wyJ2j5iEd"
      }
    }
  ]
}